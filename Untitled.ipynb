{
 "cells": [
  {
   "cell_type": "code",
   "execution_count": 1,
   "id": "f6461c36",
   "metadata": {},
   "outputs": [],
   "source": [
    "import pandas as pd\n",
    "import numpy as np\n",
    "import matplotlib.pyplot as plt\n",
    "import seaborn as sns\n",
    "import plotly.express as px\n",
    "import plotly.graph_objects as go\n",
    "import plotly.io as pio\n",
    "pio.renderers.default='png'"
   ]
  },
  {
   "cell_type": "code",
   "execution_count": null,
   "id": "95a76dc7",
   "metadata": {},
   "outputs": [],
   "source": [
    "fig = px.histogram(df, x='channel_type',title='channel_type')\n",
    "fig.update_layout(\n",
    "    title='Sum of categories in DF',\n",
    "    xaxis_title='Category channel',\n",
    "    yaxis_title='Sum of categories in DF',\n",
    "    template='plotly_dark')\n",
    "fig.show(renderer=\"png\")"
   ]
  },
  {
   "cell_type": "code",
   "execution_count": null,
   "id": "323a0359",
   "metadata": {},
   "outputs": [],
   "source": [
    "df = pd.read_csv('Global_YouTube_Statistics-Copy1.csv', encoding=\"latin-1\")\n",
    "df.head()"
   ]
  },
  {
   "cell_type": "code",
   "execution_count": null,
   "id": "db717c91",
   "metadata": {},
   "outputs": [],
   "source": []
  }
 ],
 "metadata": {
  "kernelspec": {
   "display_name": "Python 3 (ipykernel)",
   "language": "python",
   "name": "python3"
  },
  "language_info": {
   "codemirror_mode": {
    "name": "ipython",
    "version": 3
   },
   "file_extension": ".py",
   "mimetype": "text/x-python",
   "name": "python",
   "nbconvert_exporter": "python",
   "pygments_lexer": "ipython3",
   "version": "3.9.12"
  }
 },
 "nbformat": 4,
 "nbformat_minor": 5
}
